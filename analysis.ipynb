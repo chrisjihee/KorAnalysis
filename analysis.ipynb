{
 "cells": [
  {
   "cell_type": "markdown",
   "source": [
    "# OpenAPI를 활용한 한국어 분석"
   ],
   "metadata": {
    "collapsed": false
   },
   "id": "e84894015a165f9c"
  },
  {
   "cell_type": "markdown",
   "source": [
    "## 필요 패키지 설치"
   ],
   "metadata": {
    "collapsed": false
   },
   "id": "30ee6916cf16d60d"
  },
  {
   "cell_type": "code",
   "execution_count": 1,
   "outputs": [
    {
     "name": "stdout",
     "output_type": "stream",
     "text": [
      "Requirement already satisfied: dataclasses in /Users/chris/miniforge3/envs/KorAnalysis/lib/python3.10/site-packages (0.8)\r\n",
      "Requirement already satisfied: dataclasses_json in /Users/chris/miniforge3/envs/KorAnalysis/lib/python3.10/site-packages (0.6.1)\r\n",
      "Requirement already satisfied: marshmallow<4.0.0,>=3.18.0 in /Users/chris/miniforge3/envs/KorAnalysis/lib/python3.10/site-packages (from dataclasses_json) (3.20.1)\r\n",
      "Requirement already satisfied: typing-inspect<1,>=0.4.0 in /Users/chris/miniforge3/envs/KorAnalysis/lib/python3.10/site-packages (from dataclasses_json) (0.9.0)\r\n",
      "Requirement already satisfied: packaging>=17.0 in /Users/chris/miniforge3/envs/KorAnalysis/lib/python3.10/site-packages (from marshmallow<4.0.0,>=3.18.0->dataclasses_json) (23.2)\r\n",
      "Requirement already satisfied: mypy-extensions>=0.3.0 in /Users/chris/miniforge3/envs/KorAnalysis/lib/python3.10/site-packages (from typing-inspect<1,>=0.4.0->dataclasses_json) (1.0.0)\r\n",
      "Requirement already satisfied: typing-extensions>=3.7.4 in /Users/chris/miniforge3/envs/KorAnalysis/lib/python3.10/site-packages (from typing-inspect<1,>=0.4.0->dataclasses_json) (4.8.0)\r\n"
     ]
    }
   ],
   "source": [
    "!pip install dataclasses dataclasses_json"
   ],
   "metadata": {
    "collapsed": false,
    "ExecuteTime": {
     "end_time": "2023-10-22T16:48:35.143171Z",
     "start_time": "2023-10-22T16:48:34.446361Z"
    }
   },
   "id": "6d7bd12fa45930ac"
  },
  {
   "cell_type": "code",
   "execution_count": 2,
   "outputs": [
    {
     "name": "stdout",
     "output_type": "stream",
     "text": [
      "Requirement already satisfied: urllib3 in /Users/chris/miniforge3/envs/KorAnalysis/lib/python3.10/site-packages (2.0.7)\r\n"
     ]
    }
   ],
   "source": [
    "!pip install urllib3"
   ],
   "metadata": {
    "collapsed": false,
    "ExecuteTime": {
     "end_time": "2023-10-22T16:48:35.799999Z",
     "start_time": "2023-10-22T16:48:35.129252Z"
    }
   },
   "id": "627f0cd995c50225"
  },
  {
   "cell_type": "code",
   "execution_count": 3,
   "outputs": [
    {
     "name": "stdout",
     "output_type": "stream",
     "text": [
      "Requirement already satisfied: wordcloud in /Users/chris/miniforge3/envs/KorAnalysis/lib/python3.10/site-packages (1.9.2)\r\n",
      "Requirement already satisfied: numpy>=1.6.1 in /Users/chris/miniforge3/envs/KorAnalysis/lib/python3.10/site-packages (from wordcloud) (1.26.0)\r\n",
      "Requirement already satisfied: pillow in /Users/chris/miniforge3/envs/KorAnalysis/lib/python3.10/site-packages (from wordcloud) (10.1.0)\r\n",
      "Requirement already satisfied: matplotlib in /Users/chris/miniforge3/envs/KorAnalysis/lib/python3.10/site-packages (from wordcloud) (3.8.0)\r\n",
      "Requirement already satisfied: contourpy>=1.0.1 in /Users/chris/miniforge3/envs/KorAnalysis/lib/python3.10/site-packages (from matplotlib->wordcloud) (1.1.1)\r\n",
      "Requirement already satisfied: cycler>=0.10 in /Users/chris/miniforge3/envs/KorAnalysis/lib/python3.10/site-packages (from matplotlib->wordcloud) (0.12.1)\r\n",
      "Requirement already satisfied: fonttools>=4.22.0 in /Users/chris/miniforge3/envs/KorAnalysis/lib/python3.10/site-packages (from matplotlib->wordcloud) (4.43.1)\r\n",
      "Requirement already satisfied: kiwisolver>=1.0.1 in /Users/chris/miniforge3/envs/KorAnalysis/lib/python3.10/site-packages (from matplotlib->wordcloud) (1.4.5)\r\n",
      "Requirement already satisfied: packaging>=20.0 in /Users/chris/miniforge3/envs/KorAnalysis/lib/python3.10/site-packages (from matplotlib->wordcloud) (23.2)\r\n",
      "Requirement already satisfied: pyparsing>=2.3.1 in /Users/chris/miniforge3/envs/KorAnalysis/lib/python3.10/site-packages (from matplotlib->wordcloud) (3.1.1)\r\n",
      "Requirement already satisfied: python-dateutil>=2.7 in /Users/chris/miniforge3/envs/KorAnalysis/lib/python3.10/site-packages (from matplotlib->wordcloud) (2.8.2)\r\n",
      "Requirement already satisfied: six>=1.5 in /Users/chris/miniforge3/envs/KorAnalysis/lib/python3.10/site-packages (from python-dateutil>=2.7->matplotlib->wordcloud) (1.16.0)\r\n"
     ]
    }
   ],
   "source": [
    "!pip install wordcloud"
   ],
   "metadata": {
    "collapsed": false,
    "ExecuteTime": {
     "end_time": "2023-10-22T16:48:36.462711Z",
     "start_time": "2023-10-22T16:48:35.801281Z"
    }
   },
   "id": "a56c4abafdbb2c2e"
  },
  {
   "cell_type": "code",
   "execution_count": 4,
   "outputs": [
    {
     "name": "stdout",
     "output_type": "stream",
     "text": [
      "Requirement already satisfied: matplotlib in /Users/chris/miniforge3/envs/KorAnalysis/lib/python3.10/site-packages (3.8.0)\r\n",
      "Requirement already satisfied: contourpy>=1.0.1 in /Users/chris/miniforge3/envs/KorAnalysis/lib/python3.10/site-packages (from matplotlib) (1.1.1)\r\n",
      "Requirement already satisfied: cycler>=0.10 in /Users/chris/miniforge3/envs/KorAnalysis/lib/python3.10/site-packages (from matplotlib) (0.12.1)\r\n",
      "Requirement already satisfied: fonttools>=4.22.0 in /Users/chris/miniforge3/envs/KorAnalysis/lib/python3.10/site-packages (from matplotlib) (4.43.1)\r\n",
      "Requirement already satisfied: kiwisolver>=1.0.1 in /Users/chris/miniforge3/envs/KorAnalysis/lib/python3.10/site-packages (from matplotlib) (1.4.5)\r\n",
      "Requirement already satisfied: numpy<2,>=1.21 in /Users/chris/miniforge3/envs/KorAnalysis/lib/python3.10/site-packages (from matplotlib) (1.26.0)\r\n",
      "Requirement already satisfied: packaging>=20.0 in /Users/chris/miniforge3/envs/KorAnalysis/lib/python3.10/site-packages (from matplotlib) (23.2)\r\n",
      "Requirement already satisfied: pillow>=6.2.0 in /Users/chris/miniforge3/envs/KorAnalysis/lib/python3.10/site-packages (from matplotlib) (10.1.0)\r\n",
      "Requirement already satisfied: pyparsing>=2.3.1 in /Users/chris/miniforge3/envs/KorAnalysis/lib/python3.10/site-packages (from matplotlib) (3.1.1)\r\n",
      "Requirement already satisfied: python-dateutil>=2.7 in /Users/chris/miniforge3/envs/KorAnalysis/lib/python3.10/site-packages (from matplotlib) (2.8.2)\r\n",
      "Requirement already satisfied: six>=1.5 in /Users/chris/miniforge3/envs/KorAnalysis/lib/python3.10/site-packages (from python-dateutil>=2.7->matplotlib) (1.16.0)\r\n"
     ]
    }
   ],
   "source": [
    "!pip install matplotlib"
   ],
   "metadata": {
    "collapsed": false,
    "ExecuteTime": {
     "end_time": "2023-10-22T16:48:37.129006Z",
     "start_time": "2023-10-22T16:48:36.464426Z"
    }
   },
   "id": "88ea515aa4244b29"
  },
  {
   "cell_type": "code",
   "execution_count": 4,
   "outputs": [],
   "source": [],
   "metadata": {
    "collapsed": false,
    "ExecuteTime": {
     "end_time": "2023-10-22T16:48:37.134708Z",
     "start_time": "2023-10-22T16:48:37.129156Z"
    }
   },
   "id": "21f20d393f275142"
  }
 ],
 "metadata": {
  "kernelspec": {
   "display_name": "Python 3",
   "language": "python",
   "name": "python3"
  },
  "language_info": {
   "codemirror_mode": {
    "name": "ipython",
    "version": 2
   },
   "file_extension": ".py",
   "mimetype": "text/x-python",
   "name": "python",
   "nbconvert_exporter": "python",
   "pygments_lexer": "ipython2",
   "version": "2.7.6"
  }
 },
 "nbformat": 4,
 "nbformat_minor": 5
}
